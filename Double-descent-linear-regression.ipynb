{
 "cells": [
  {
   "cell_type": "code",
   "execution_count": 1,
   "metadata": {},
   "outputs": [],
   "source": [
    "%load_ext autoreload\n",
    "%autoreload 2\n",
    "%matplotlib inline"
   ]
  },
  {
   "cell_type": "code",
   "execution_count": 2,
   "metadata": {},
   "outputs": [],
   "source": [
    "import matplotlib.pyplot as plt\n",
    "import numpy as np\n",
    "import math\n",
    "\n",
    "np.random.seed(0)"
   ]
  },
  {
   "cell_type": "markdown",
   "metadata": {},
   "source": [
    "## Generate data"
   ]
  },
  {
   "cell_type": "code",
   "execution_count": 3,
   "metadata": {},
   "outputs": [],
   "source": [
    "# parameters\n",
    "D = 100\n",
    "n_train = 100\n",
    "n_test = 100\n",
    "\n",
    "# training data\n",
    "X = np.random.randn(n_train, D)\n",
    "beta = np.random.randn(D, 1)\n",
    "sigma = 0.1\n",
    "Y = X @ beta + sigma * np.random.randn(n_train, 1)\n",
    "\n",
    "# test data\n",
    "def get_te(beta_hat):\n",
    "    X_test = np.random.randn(n_test, D)\n",
    "    Y_test = X_test @ beta\n",
    "    \n",
    "    Y_est = X_test @ beta_hat\n",
    "    err = (Y_test - Y_est).T @ (Y_test - Y_est) / n_test    \n",
    "    return err"
   ]
  },
  {
   "cell_type": "markdown",
   "metadata": {},
   "source": [
    "## Subsample dimension"
   ]
  },
  {
   "cell_type": "code",
   "execution_count": null,
   "metadata": {},
   "outputs": [],
   "source": [
    "def get_subsampled_estimator(p):\n",
    "    assert(p <= D)\n",
    "    # subsample X -> beta_hat on the subsampled set\n",
    "    \n",
    "    return beta_hat"
   ]
  },
  {
   "cell_type": "markdown",
   "metadata": {},
   "source": [
    "## Plot over different feature size"
   ]
  },
  {
   "cell_type": "code",
   "execution_count": null,
   "metadata": {},
   "outputs": [],
   "source": [
    "p_list = [10 * i for i in range (1, 21)]\n",
    "err_list = []\n",
    "\n",
    "for p in p_list:\n",
    "    beta_hat = get_subsampled_estimator(p)\n",
    "    err = get_te(beta_hat)\n",
    "    err_liat.append(err)\n",
    "    \n",
    "    \n",
    "plot.plt(p_list, err)"
   ]
  }
 ],
 "metadata": {
  "kernelspec": {
   "display_name": "Python 3",
   "language": "python",
   "name": "python3"
  },
  "language_info": {
   "codemirror_mode": {
    "name": "ipython",
    "version": 3
   },
   "file_extension": ".py",
   "mimetype": "text/x-python",
   "name": "python",
   "nbconvert_exporter": "python",
   "pygments_lexer": "ipython3",
   "version": "3.6.8"
  }
 },
 "nbformat": 4,
 "nbformat_minor": 2
}
